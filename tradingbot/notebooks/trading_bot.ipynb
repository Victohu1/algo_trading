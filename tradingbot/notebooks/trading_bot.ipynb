{
 "cells": [
  {
   "cell_type": "markdown",
   "metadata": {},
   "source": [
    "### Notebook for trading_bot\n",
    "\n",
    "Starting with paper trading"
   ]
  },
  {
   "cell_type": "code",
   "execution_count": 34,
   "metadata": {},
   "outputs": [
    {
     "name": "stderr",
     "output_type": "stream",
     "text": [
      "c:\\Users\\Victohu1\\Desktop\\algo_trading\\algo_trading\\Lib\\site-packages\\tqdm\\auto.py:21: TqdmWarning:\n",
      "\n",
      "IProgress not found. Please update jupyter and ipywidgets. See https://ipywidgets.readthedocs.io/en/stable/user_install.html\n",
      "\n"
     ]
    }
   ],
   "source": [
    "import sys\n",
    "import os\n",
    "\n",
    "BASE_DIR = os.path.abspath(os.path.join(os.getcwd(), \"../../\"))\n",
    "sys.path.insert(0, BASE_DIR)\n",
    "\n",
    "import lumibot\n",
    "from lumibot.brokers import Alpaca\n",
    "from lumibot.backtesting import YahooDataBacktesting\n",
    "from lumibot.strategies.strategy import Strategy\n",
    "from lumibot.traders import Trader\n",
    "from datetime import datetime\n",
    "\n",
    "import math\n",
    "\n",
    "# News\n",
    "from alpaca_trade_api import REST\n",
    "from timedelta import Timedelta\n",
    "\n",
    "# Strategies\n",
    "from strategies.ML_models.finbert_utils import estimate_sentiment"
   ]
  },
  {
   "cell_type": "code",
   "execution_count": 10,
   "metadata": {},
   "outputs": [],
   "source": [
    "API_KEY = \"PK5VOHYTOFZB5OCY1CDE\"\n",
    "API_SECRET = \"NxTEBhwXnCoKOeVXQ5TrWWQNRxiv3jU4UUyAZ8Y5\"\n",
    "BASE_URL = \"https://paper-api.alpaca.markets/v2\""
   ]
  },
  {
   "cell_type": "code",
   "execution_count": 11,
   "metadata": {},
   "outputs": [],
   "source": [
    "ALPACA_CREDS = {\n",
    "    \"API_KEY\": API_KEY,\n",
    "    \"API_SECRET\": API_SECRET,\n",
    "    \"PAPER\": True\n",
    "}"
   ]
  },
  {
   "cell_type": "code",
   "execution_count": 26,
   "metadata": {},
   "outputs": [],
   "source": [
    "class MLTrader(Strategy):\n",
    "    def initialize(self, symbol:str=\"SPY\", cash_at_risk:float=.5):\n",
    "        self.symbol= symbol\n",
    "        self.sleeptime = \"24H\" # dictates how frequently we're gonna trade\n",
    "        self.last_trade = None\n",
    "        self.cash_at_risk = cash_at_risk # Cash at risk: How much of our cash balance do we want to risk at every trade, 0.5 means for each trade we're using 50% of our remaining cash balance\n",
    "        self.api = REST(base_url=BASE_URL, key_id=API_KEY, secret_key=API_SECRET)\n",
    "    \n",
    "    def position_sizing(self):\n",
    "        cash = self.get_cash()\n",
    "        last_price = self.get_last_price(self.symbol)\n",
    "        \n",
    "        # Calculating sizing\n",
    "        quantity = math.floor(cash * self.cash_at_risk / last_price) # tells us how many units we're gonna get per amount that we want to risk\n",
    "        return cash, last_price, quantity\n",
    "\n",
    "    def get_dates(self):\n",
    "        today = self.get_datetime()\n",
    "\n",
    "        # Get 3 days worth of news\n",
    "        three_days_prior = today - Timedelta(days=3)\n",
    "        return today.strftime('%Y-%m-%d'), three_days_prior.strftime('%Y-%m-%d')\n",
    "\n",
    "    def get_news(self):\n",
    "        today, three_days_prior = self.get_dates()\n",
    "        news = self.api.get_news(symbol=self.symbol, \n",
    "                                 start=three_days_prior, \n",
    "                                 end=today)\n",
    "        news = [ev.__dict__[\"_raw\"][\"headline\"] for ev in news] # ev: event\n",
    "        return news\n",
    "\n",
    "    def on_trading_iteration(self): # runs once everything we get a tick\n",
    "        cash, last_price, quantity = self.position_sizing()\n",
    "\n",
    "        if cash > last_price: # check to make sure we're not buying when we don't have enough cash\n",
    "            # Baseline trade\n",
    "            if self.last_trade == None:\n",
    "                news = self.get_news()\n",
    "                print(news)\n",
    "                order = self.create_order(\n",
    "                    self.symbol,\n",
    "                    quantity,\n",
    "                    \"buy\",\n",
    "                    type=\"bracket\",\n",
    "\n",
    "                    # stop loss\n",
    "                    take_profit_price=last_price*1.2,\n",
    "                    stop_loss_price=last_price*0.95\n",
    "                )\n",
    "                self.submit_order(order)\n",
    "                self.last_trade = \"buy\""
   ]
  },
  {
   "cell_type": "code",
   "execution_count": 28,
   "metadata": {},
   "outputs": [],
   "source": [
    "start_date = datetime(2023, 12, 15)\n",
    "end_date = datetime(2023, 12, 31)"
   ]
  },
  {
   "cell_type": "code",
   "execution_count": 29,
   "metadata": {},
   "outputs": [],
   "source": [
    "broker = Alpaca(ALPACA_CREDS)\n",
    "strategy = MLTrader(name='mlstrat', broker=broker,\n",
    "                    parameters={\"symbol\":\"SPY\",\n",
    "                                \"cash_at_risk\":.5})"
   ]
  },
  {
   "cell_type": "code",
   "execution_count": 30,
   "metadata": {},
   "outputs": [
    {
     "name": "stdout",
     "output_type": "stream",
     "text": [
      "Progress |\u001b[32m\u001b[0m|   2.47%  [Elapsed: 0:00:00 ETA: 0:00:18] [\"If You Invested $1,000 In Exxon Mobil When Joe Biden Was Elected President, Here's How Much You'd Have Today\", 'U.S. Senators Will Vote On Foreign Aid Supplemental Agreement Next Week', 'Traders May Need Frequent Portfolio Adjustments In 2024: BlackRock', 'U.S. Supreme Court Declines To Block Illinois Ban On Assault-Type Rifles And Large Capacity Magazines', \"US Stocks Eye 7-Day Winning Streak As Mortgage Rates Fall Below 7%, Yields Tumble: What's Driving Markets Thursday?\", 'Live On CNBC, SEC Chair Gary Gensler Discusses Bitcoin ETFs; Regulating Crypto', \"Live On CNBC, SEC Chair Gary Gensler Discusses The SEC's Latest Moves; Treasury Clearing; Regulating Artificial Intelligence\", \"U.S. House Of Representatives Passes $886B Defense Policy Bill 310 To 118, Sending Measure To White House For Biden's Signature\", 'Market Clubhouse Morning Memo - December 14th, 2023 (Trade Strategy For SPY, QQQ, AAPL, MSFT, TSLA, NVDA, GOOGL, And META)', 'USA Natural Gas Storage -55B Vs -54B Est.; -117B Prior']\n",
      "Progress |\u001b[32m\u001b[0m| 100.00%  [Elapsed: 0:00:00 ETA: 0:00:00] Portfolio Val: 100,944.04"
     ]
    },
    {
     "data": {
      "text/plain": [
       "{'cagr': 0.25708368926531966,\n",
       " 'volatility': 0.028893175680975387,\n",
       " 'sharpe': 7.093498247517957,\n",
       " 'max_drawdown': {'drawdown': 0.0027690901105407078,\n",
       "  'date': Timestamp('2023-12-21 09:30:00-0500', tz='America/New_York')},\n",
       " 'romad': 92.84049236488013,\n",
       " 'total_return': 0.00944036000000037}"
      ]
     },
     "execution_count": 30,
     "metadata": {},
     "output_type": "execute_result"
    }
   ],
   "source": [
    "strategy.backtest(\n",
    "    YahooDataBacktesting,\n",
    "    start_date,\n",
    "    end_date,\n",
    "    parameters={\"symbol\":\"SPY\", \"cash_at_risk\":.5}\n",
    ")"
   ]
  }
 ],
 "metadata": {
  "kernelspec": {
   "display_name": "algo_trading",
   "language": "python",
   "name": "python3"
  },
  "language_info": {
   "codemirror_mode": {
    "name": "ipython",
    "version": 3
   },
   "file_extension": ".py",
   "mimetype": "text/x-python",
   "name": "python",
   "nbconvert_exporter": "python",
   "pygments_lexer": "ipython3",
   "version": "3.12.0"
  }
 },
 "nbformat": 4,
 "nbformat_minor": 2
}
